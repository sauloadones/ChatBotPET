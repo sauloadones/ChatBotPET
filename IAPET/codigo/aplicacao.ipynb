{
 "cells": [
  {
   "cell_type": "code",
   "execution_count": 115,
   "id": "3c769d40",
   "metadata": {},
   "outputs": [],
   "source": [
    "import pickle\n",
    "import pandas as pd\n",
    "import gradio as gr\n",
    "import joblib\n",
    "from scipy.sparse import hstack, csr_matrix\n",
    "\n",
    "modelo = joblib.load(\"../modelo/modelo_treinado.joblib\")\n",
    "vectorizer = joblib.load(\"../modelo/vectorizer_tfidf.joblib\")\n",
    "\n"
   ]
  },
  {
   "cell_type": "markdown",
   "id": "6371e43f",
   "metadata": {},
   "source": [
    "Testes:\n",
    "Noticia Real:\n",
    "classificar_noticia(\n",
    "    titulo=\"Brasil ultrapassa 2 milhões de sistemas de energia solar instalados em residências\",\n",
    "    texto=\"A ANEEL informou que o Brasil superou a marca de 2 milhões de sistemas fotovoltaicos conectados à rede, a maioria em telhados residenciais.\",\n",
    "    editora_nome=\"Lupa - UOL\",\n",
    "    site_editora_nome=\"lupa.uol.com.br\",\n",
    "    origem_nome=\"Pessoa\",\n",
    "    dominio_nome=\"lupa.uol.com.br\"\n",
    ")\n",
    "\n",
    "Noticia Fake:\n",
    "classificar_noticia(\n",
    "    titulo=\"Vacina contra COVID-19 contém chip 5G para rastreamento populacional, afirma vídeo vazado\",\n",
    "    texto=\"Circula nas redes sociais um vídeo que mostra um cientista da Pfizer admitindo que as vacinas contêm microchips ativados por sinal 5G.\",\n",
    "    editora_nome=\"Boatos.org\",\n",
    "    site_editora_nome=\"boatos.org\",\n",
    "    origem_nome=\"WhatsApp\",\n",
    "    dominio_nome=\"www.boatos.org\"\n",
    ")"
   ]
  },
  {
   "cell_type": "code",
   "execution_count": 117,
   "id": "c0e74ef7",
   "metadata": {},
   "outputs": [],
   "source": [
    "from scipy.sparse import hstack, csr_matrix\n",
    "\n",
    "def classificar_noticia(titulo, texto, editora_nome, site_editora_nome, origem_nome, dominio_nome):\n",
    "    conteudo = f\"{titulo.strip()} {texto.strip()}\"\n",
    "    mapeamento_editora = {\n",
    "        'lupa - uol': 5, 'bol - uol': 2, 'uol': 11, 'aos fatos': 1, 'boatos.org': 3,\n",
    "        'desconhecida': 14, 'política - estadão': 8,\n",
    "        'política | notícias do governo, stf e congresso - estadão': 9,\n",
    "        'projeto comprova': 10, 'uol notícias': 13, 'uol noticias': 12,\n",
    "        'polígrafo - sapo': 7, 'afp checamos': 0, 'observador': 6, 'e-farsas': 4\n",
    "    }\n",
    "\n",
    "    mapeamento_site_editora = {\n",
    "        'lupa.uol.com.br': 5, 'bol.uol.com.br': 2, 'piaui.folha.uol.com.br': 8,\n",
    "        'aosfatos.org': 0, 'boatos.org': 1, 'politica.estadao.com.br': 10,\n",
    "        'projetocomprova.com.br': 11, 'noticias.uol.com.br': 6,\n",
    "        'poligrafo.sapo.pt': 9, 'checamos.afp.com': 3, 'observador.pt': 7, 'e-farsas.com': 4\n",
    "    }\n",
    "\n",
    "    mapeamento_origem = {\n",
    "        'pessoa': 8, 'outros': 7, 'whatsapp': 11, 'facebook': 2, 'bolsonaro': 1,\n",
    "        'vídeo': 10, 'áudio': 13, 'lula': 6, 'instagram': 5, 'blog/site': 0,\n",
    "        'governo': 3, 'twitter': 9, 'youtube': 12, 'imagem': 4\n",
    "    }\n",
    "\n",
    "    mapeamento_dominio = {\n",
    "        'aosfatos.org': 0, 'checamos.afp.com': 1, 'lupa.uol.com.br': 2,\n",
    "        'noticias.uol.com.br': 3, 'observador.pt': 4, 'piaui.folha.uol.com.br': 5,\n",
    "        'poligrafo.sapo.pt': 6, 'politica.estadao.com.br': 7,\n",
    "        'projetocomprova.com.br': 8, 'www.aosfatos.org': 9, 'www.boatos.org': 10,\n",
    "        'www.bol.uol.com.br': 11, 'www.e-farsas.com': 12\n",
    "    }\n",
    "\n",
    "    try:\n",
    "        editora = mapeamento_editora.get(editora_nome.strip().lower(), -1)\n",
    "        site_editora = mapeamento_site_editora.get(site_editora_nome.strip().lower(), -1)\n",
    "        origem_cod = mapeamento_origem.get(origem_nome.strip().lower(), -1)\n",
    "        dominio_cod = mapeamento_dominio.get(dominio_nome.strip().lower(), -1)\n",
    "\n",
    "        if -1 in [editora, site_editora, origem_cod, dominio_cod]:\n",
    "            return \"Erro: Um dos valores digitados não é reconhecido. Verifique a grafia.\"\n",
    "\n",
    "        texto_transformado = vectorizer.transform([conteudo])\n",
    "        outras_variaveis = csr_matrix([[dominio_cod, editora, site_editora, origem_cod]])\n",
    "        entrada = hstack([texto_transformado, outras_variaveis])\n",
    "\n",
    "        pred = modelo.predict(entrada)[0]\n",
    "        prob = modelo.predict_proba(entrada)[0][pred] if hasattr(modelo, \"predict_proba\") else 1.0\n",
    "        classe = \"Fake News\" if pred == 1 else \"Notícia Real\"\n",
    "        return f\"{classe} (confiança: {prob:.2%})\"\n",
    "\n",
    "    except Exception as e:\n",
    "        return f\"Erro inesperado: {str(e)}\"\n",
    "\n",
    "\n"
   ]
  },
  {
   "cell_type": "code",
   "execution_count": 118,
   "id": "cc2150c7",
   "metadata": {},
   "outputs": [
    {
     "name": "stdout",
     "output_type": "stream",
     "text": [
      "* Running on local URL:  http://127.0.0.1:7885\n",
      "* To create a public link, set `share=True` in `launch()`.\n"
     ]
    },
    {
     "data": {
      "text/html": [
       "<div><iframe src=\"http://127.0.0.1:7885/\" width=\"100%\" height=\"500\" allow=\"autoplay; camera; microphone; clipboard-read; clipboard-write;\" frameborder=\"0\" allowfullscreen></iframe></div>"
      ],
      "text/plain": [
       "<IPython.core.display.HTML object>"
      ]
     },
     "metadata": {},
     "output_type": "display_data"
    },
    {
     "data": {
      "text/plain": []
     },
     "execution_count": 118,
     "metadata": {},
     "output_type": "execute_result"
    }
   ],
   "source": [
    "interface = gr.Interface(\n",
    "    fn=classificar_noticia,\n",
    "    inputs=[\n",
    "        gr.Textbox(label=\"Título da Notícia\", lines=2),\n",
    "        gr.Textbox(label=\"Texto da Notícia\", lines=6),\n",
    "        gr.Textbox(label=\"Editora\"),\n",
    "        gr.Textbox(label=\"Site da Editora\"),\n",
    "        gr.Textbox(label=\"Origem\"),\n",
    "        gr.Textbox(label=\"Domínio\")\n",
    "    ],\n",
    "    outputs=gr.Label(label=\"Classificação\"),\n",
    "    title=\"📰 Classificador de Fake News\",\n",
    "    description=\"Informe o título e o texto da notícia junto com os metadados para classificação.\"\n",
    ")\n",
    "\n",
    "\n",
    "interface.launch()\n",
    "\n",
    "\n",
    "\n",
    "\n",
    "\n",
    "\n"
   ]
  }
 ],
 "metadata": {
  "kernelspec": {
   "display_name": "Python 3",
   "language": "python",
   "name": "python3"
  },
  "language_info": {
   "codemirror_mode": {
    "name": "ipython",
    "version": 3
   },
   "file_extension": ".py",
   "mimetype": "text/x-python",
   "name": "python",
   "nbconvert_exporter": "python",
   "pygments_lexer": "ipython3",
   "version": "3.13.2"
  }
 },
 "nbformat": 4,
 "nbformat_minor": 5
}
